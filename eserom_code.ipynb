{
 "cells": [
  {
   "cell_type": "code",
   "execution_count": 1,
   "metadata": {
    "collapsed": true
   },
   "outputs": [],
   "source": [
    "data = \"1111 1 1011 1011 000  100 000 101 1011 011\""
   ]
  },
  {
   "cell_type": "code",
   "execution_count": 9,
   "outputs": [],
   "source": [
    "# Dictionary representing the morse code chart\n",
    "ESEROM_CODE_DICT = {'10': 'A', '0111': 'B','0101': 'C',\n",
    "                    '011': 'D', '1': 'E', '1101': 'F',\n",
    "                    '001': 'G', '1111': 'H', '11': 'I',\n",
    "                    '1000': 'J', '010': 'K', '1011': 'L',\n",
    "                    '00': 'M', '01': 'N', '000': 'O',\n",
    "                    '1001': 'P', '0010': 'Q', '101': 'R',\n",
    "                    '111': 'S', '0': 'T', '110': 'U',\n",
    "                    '1110': 'V', '100': 'W', '0110': 'X',\n",
    "                    '0100': 'Y', '0011': 'Z'}"
   ],
   "metadata": {
    "collapsed": false
   }
  },
  {
   "cell_type": "code",
   "execution_count": 15,
   "outputs": [
    {
     "data": {
      "text/plain": "'HELLO WORLD'"
     },
     "execution_count": 15,
     "metadata": {},
     "output_type": "execute_result"
    }
   ],
   "source": [
    "def eserom_decoder(eserom_code):\n",
    "    words = eserom_code.split(\"  \") # split by double space\n",
    "\n",
    "    decoded_text = []\n",
    "    for word in words:\n",
    "        word = word.split(\" \")\n",
    "        decoded_text.append(\"\".join( [ ESEROM_CODE_DICT.get(letter, \"0\") for letter in word ] ) )\n",
    "\n",
    "    return \" \".join(decoded_text)\n",
    "\n",
    "eserom_decoder(data)"
   ],
   "metadata": {
    "collapsed": false
   }
  },
  {
   "cell_type": "code",
   "execution_count": 17,
   "outputs": [
    {
     "data": {
      "text/plain": "'HELLO WORLD'"
     },
     "execution_count": 17,
     "metadata": {},
     "output_type": "execute_result"
    }
   ],
   "source": [
    "# Or if one hates readability, the function could be written in one line:\n",
    "def eserom_decoder_unreadable(eserom_code):\n",
    "    return \" \".join([ \"\".join( [ ESEROM_CODE_DICT.get(letter, \"0\") for letter in word.split(\" \") ] ) for word in eserom_code.split(\"  \") ] )\n",
    "\n",
    "eserom_decoder_unreadable(data)"
   ],
   "metadata": {
    "collapsed": false
   }
  }
 ],
 "metadata": {
  "kernelspec": {
   "display_name": "Python 3",
   "language": "python",
   "name": "python3"
  },
  "language_info": {
   "codemirror_mode": {
    "name": "ipython",
    "version": 2
   },
   "file_extension": ".py",
   "mimetype": "text/x-python",
   "name": "python",
   "nbconvert_exporter": "python",
   "pygments_lexer": "ipython2",
   "version": "2.7.6"
  }
 },
 "nbformat": 4,
 "nbformat_minor": 0
}
